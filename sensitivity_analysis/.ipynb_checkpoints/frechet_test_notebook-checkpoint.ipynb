{
 "cells": [
  {
   "cell_type": "code",
   "execution_count": 1,
   "metadata": {},
   "outputs": [],
   "source": [
    "# Loading in libraries\n",
    "import pandas as pd\n",
    "import matplotlib.pyplot as plt\n",
    "import spatial_efd\n",
    "import math \n",
    "import signac\n",
    "import numpy as np\n",
    "import os.path\n",
    "import os\n",
    "import torch\n",
    "import gpytorch\n",
    "from matplotlib import pyplot as plt\n",
    "from sklearn.preprocessing import StandardScaler\n",
    "import similaritymeasures\n",
    "#from smt.sampling_methods import LHS\n",
    "# Importing helper libraries for bayesian optimization\n",
    "from dependencies.data_preprocessing_class import dataPreprocessing\n",
    "from dependencies.gaussian_process_regression_class import gaussianProcessRegression\n",
    "from dependencies.acquisition_functions_class import acqisitionFunctions\n",
    "from dependencies.geometry_writer import geometryWriter\n",
    "from dependencies.feature_extractor_4 import FeatureExtractor\n"
   ]
  },
  {
   "cell_type": "markdown",
   "metadata": {},
   "source": [
    "### Loading dataset for parameter estimation: Used for estimating fraehet distance and output for the GPR model"
   ]
  },
  {
   "cell_type": "code",
   "execution_count": 2,
   "metadata": {},
   "outputs": [],
   "source": [
    "\"\"\"\n",
    "Source for the shape for which parameter estimation has to be carried out\n",
    "0: Shape is generated from the experimental image data\n",
    "1: Shape has been generated rom the \n",
    "\"\"\"\n",
    "\n",
    "target_shape_source = 1\n",
    "\n",
    "if target_shape_source == 0:\n",
    "    # Reading the text file containing coordinates from exterior contour of the wing disc cross section\n",
    "    geometry_data = 'input_data/vertices_target.txt' \n",
    "    if type(geometry_data) is str:\n",
    "        # Checking if the file containing vertices coordinates are empty\n",
    "        if os.stat(geometry_data).st_size != 0:\n",
    "            a1 = []\n",
    "            a2 = []\n",
    "\n",
    "            with open(geometry_data) as f:\n",
    "                # next(f)\n",
    "                for line in f:\n",
    "                    data = line.split()\n",
    "                    a1.append(float(data[0]))\n",
    "                    a2.append(float(data[1]))\n",
    "\n",
    "\n",
    "        else:\n",
    "            a1 = 0\n",
    "            a2 = 0\n",
    "\n",
    "    vpos_x_exp = a1\n",
    "    vpos_y_exp = a2\n",
    "\n",
    "    coeffs = spatial_efd.CalculateEFD(vpos_x_exp, vpos_y_exp, 20)\n",
    "    # Normalizing the coefficients against rotation and size\n",
    "    coeffs_exp, rotation = spatial_efd.normalize_efd(coeffs, size_invariant=True)\n",
    "    \n",
    "elif target_shape_source == 1:\n",
    "    # Reading the vertices output file from a sample SE simulation output with known parameters\n",
    "    fe_exp = FeatureExtractor('input_data/vertices_target_SE.txt', 'log_edges.xlsx')\n",
    "    # Extracting the efd coefficients\n",
    "    coeffs_basal, coeffs_norm_basal, rotation_basal, coeffs_apical, coeffs_norm_apical, rotation_apical = fe_exp.tissue_efd_coeff(20)\n",
    "    curvature_basal = fe_exp.tissue_local_curvature()\n",
    "    tissue_edge_length = fe_exp.edge_length()\n",
    "    "
   ]
  },
  {
   "cell_type": "markdown",
   "metadata": {},
   "source": [
    "### Preparing output dataset for GPR modelingf by defining frechet distance"
   ]
  },
  {
   "cell_type": "code",
   "execution_count": 6,
   "metadata": {},
   "outputs": [
    {
     "data": {
      "text/plain": [
       "\"\\nerror_simulation_experimental_data = np.zeros(150)\\nfor i in range(150):\\n    temp = master_feature_output[i,:]\\n    temp2 = np.reshape(temp, (20,4))\\n    xt, yt = spatial_efd.inverse_transform(temp2, harmonic=20)\\n    sim_data = np.zeros((300,2))\\n    sim_data[:,0] = xt\\n    sim_data[:,1] = yt\\n    error_simulation_experimental_data[i] = similaritymeasures.frechet_dist(exp_data,sim_data)\\n    \\ndata_y = (np.reshape(error_simulation_experimental_data, (150,1)))*(-1)\\nprint(np.shape(data_y))\\nnp.save('data_y.npy', data_y)\\n\""
      ]
     },
     "execution_count": 6,
     "metadata": {},
     "output_type": "execute_result"
    },
    {
     "data": {
      "image/png": "[encoded data removed]",
      "text/plain": [
       "<Figure size 432x288 with 1 Axes>"
      ]
     },
     "metadata": {},
     "output_type": "display_data"
    }
   ],
   "source": [
    "# Reverse EFD for plotting the normalized tissue shape\n",
    "\n",
    "\n",
    "xt_exp_apical, yt_exp_apical = spatial_efd.inverse_transform(coeffs_norm_apical, harmonic=20)\n",
    "xt_exp_basal, yt_exp_basal = spatial_efd.inverse_transform(coeffs_norm_basal, harmonic=20)\n",
    "exp_data = np.zeros((300,2))\n",
    "exp_data[:,0] = xt_exp_apical\n",
    "exp_data[:,1] = yt_exp_apical\n",
    "\n",
    "plt.plot(xt_exp_apical, yt_exp_apical)\n",
    "plt.plot(xt_exp_basal, yt_exp_basal)\n",
    "\n",
    "print(np.shape(curvature_basal))\n",
    "print(np.shape(tissue_edge_length))\n",
    "\n",
    "\"\"\"\n",
    "error_simulation_experimental_data = np.zeros(150)\n",
    "for i in range(150):\n",
    "    temp = master_feature_output[i,:]\n",
    "    temp2 = np.reshape(temp, (20,4))\n",
    "    xt, yt = spatial_efd.inverse_transform(temp2, harmonic=20)\n",
    "    sim_data = np.zeros((300,2))\n",
    "    sim_data[:,0] = xt\n",
    "    sim_data[:,1] = yt\n",
    "    error_simulation_experimental_data[i] = similaritymeasures.frechet_dist(exp_data,sim_data)\n",
    "    \n",
    "data_y = (np.reshape(error_simulation_experimental_data, (150,1)))*(-1)\n",
    "print(np.shape(data_y))\n",
    "np.save('data_y.npy', data_y)\n",
    "\"\"\""
   ]
  },
  {
   "cell_type": "markdown",
   "metadata": {},
   "source": [
    "### GPR modeling"
   ]
  },
  {
   "cell_type": "code",
   "execution_count": null,
   "metadata": {},
   "outputs": [],
   "source": []
  }
 ],
 "metadata": {
  "kernelspec": {
   "display_name": "Python 3",
   "language": "python",
   "name": "python3"
  },
  "language_info": {
   "codemirror_mode": {
    "name": "ipython",
    "version": 3
   },
   "file_extension": ".py",
   "mimetype": "text/x-python",
   "name": "python",
   "nbconvert_exporter": "python",
   "pygments_lexer": "ipython3",
   "version": "3.6.5"
  }
 },
 "nbformat": 4,
 "nbformat_minor": 2
}
