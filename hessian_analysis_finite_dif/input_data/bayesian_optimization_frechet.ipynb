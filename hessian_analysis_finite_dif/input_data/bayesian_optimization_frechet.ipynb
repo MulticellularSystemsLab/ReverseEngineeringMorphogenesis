{
 "cells": [
  {
   "cell_type": "code",
   "execution_count": 4,
   "metadata": {},
   "outputs": [],
   "source": [
    "# Loading in libraries\n",
    "import pandas as pd\n",
    "import matplotlib.pyplot as plt\n",
    "import spatial_efd\n",
    "import math \n",
    "import signac\n",
    "import numpy as np\n",
    "import os.path\n",
    "import os\n",
    "import torch\n",
    "import gpytorch\n",
    "from matplotlib import pyplot as plt\n",
    "from sklearn.preprocessing import StandardScaler\n",
    "import similaritymeasures\n",
    "#from smt.sampling_methods import LHS\n",
    "# Importing helper libraries for bayesian optimization\n",
    "from dependencies.data_preprocessing_class import dataPreprocessing\n",
    "from dependencies.gaussian_process_regression_class import gaussianProcessRegression\n",
    "from dependencies.acquisition_functions_class import acqisitionFunctions\n",
    "from dependencies.geometry_writer import geometryWriter\n",
    "from dependencies.feature_extractor_4 import FeatureExtractor\n"
   ]
  },
  {
   "cell_type": "code",
   "execution_count": 5,
   "metadata": {},
   "outputs": [],
   "source": [
    "# Checking if data exists\n",
    "doesDataFileExist = os.path.isfile(\"master_feature_output.npy\")\n",
    "# Loading datafiles if they exist\n",
    "# Else fetching and preparing data from signac workspace\n",
    "if doesDataFileExist == True:\n",
    "\tmaster_parameter_input_n = np.load('master_parameter_input_n.npy', )\n",
    "\tmaster_feature_output = np.load('master_feature_output.npy', )"
   ]
  },
  {
   "cell_type": "code",
   "execution_count": 6,
   "metadata": {},
   "outputs": [
    {
     "name": "stdout",
     "output_type": "stream",
     "text": [
      "(150, 80)\n"
     ]
    }
   ],
   "source": [
    "print(np.shape(master_feature_output))"
   ]
  },
  {
   "cell_type": "markdown",
   "metadata": {},
   "source": [
    "### Preparing input data for the GPR model"
   ]
  },
  {
   "cell_type": "code",
   "execution_count": 7,
   "metadata": {},
   "outputs": [
    {
     "name": "stdout",
     "output_type": "stream",
     "text": [
      "[1.7149018 1.7149018 1.7149018 1.7149018 1.7149018 1.7149018 1.7149018]\n",
      "[-1.7149018 -1.7149018 -1.7149018 -1.7149018 -1.7149018 -1.7149018\n",
      " -1.7149018]\n"
     ]
    },
    {
     "name": "stderr",
     "output_type": "stream",
     "text": [
      "/home/nkumar4/Desktop/bayesian_optimization_frechet/dependencies/data_preprocessing_class.py:42: RuntimeWarning: divide by zero encountered in log\n",
      "  master_parameter_input = np.log(self.master_parameter_input_n)\n"
     ]
    }
   ],
   "source": [
    "# Loading in the data processing class\n",
    "dataPreprocess  = dataPreprocessing(master_parameter_input_n, master_feature_output, 150)\n",
    "# Converting the input parameters to logscale\n",
    "master_parameter_input_log = dataPreprocess.inputLogTransform()\n",
    "# Selecting the parameters that were sampled in the latin hypercube sampling\n",
    "num_parameters_LHS = 7\n",
    "LHS_parameter_index = [1, 4, 7, 17, 18, 19, 33]\n",
    "# Calling in the function to separate out the desired parameters\n",
    "data_x = dataPreprocess.inputParameterSelection(num_parameters_LHS, LHS_parameter_index, master_parameter_input_log)\n",
    "# Storing mean and standard deviation of input training data for later use\n",
    "data_x_mean = np.mean(data_x, axis=0)\n",
    "data_x_variance = np.std(data_x, axis=0)\n",
    "# Normalizing data\n",
    "data_x = StandardScaler().fit_transform(data_x)\n",
    "# Estimating bounds for input transformed parameters\n",
    "max_data_x = np.amax(data_x, axis=0) \n",
    "min_data_x = np.amin(data_x, axis=0) \n",
    "print(max_data_x)\n",
    "print(min_data_x)\n"
   ]
  },
  {
   "cell_type": "markdown",
   "metadata": {},
   "source": [
    "### Loading dataset for parameter estimation: Used for estimating fraehet distance and output for the GPR model"
   ]
  },
  {
   "cell_type": "code",
   "execution_count": 8,
   "metadata": {},
   "outputs": [],
   "source": [
    "\"\"\"\n",
    "Source for the shape for which parameter estimation has to be carried out\n",
    "0: Shape is generated from the experimental image data\n",
    "1: Shape has been generated rom the \n",
    "\"\"\"\n",
    "\n",
    "target_shape_source = 1\n",
    "\n",
    "if target_shape_source == 0:\n",
    "    # Reading the text file containing coordinates from exterior contour of the wing disc cross section\n",
    "    geometry_data = 'input_data/vertices_target.txt' \n",
    "    if type(geometry_data) is str:\n",
    "        # Checking if the file containing vertices coordinates are empty\n",
    "        if os.stat(geometry_data).st_size != 0:\n",
    "            a1 = []\n",
    "            a2 = []\n",
    "\n",
    "            with open(geometry_data) as f:\n",
    "                # next(f)\n",
    "                for line in f:\n",
    "                    data = line.split()\n",
    "                    a1.append(float(data[0]))\n",
    "                    a2.append(float(data[1]))\n",
    "\n",
    "\n",
    "        else:\n",
    "            a1 = 0\n",
    "            a2 = 0\n",
    "\n",
    "    vpos_x_exp = a1\n",
    "    vpos_y_exp = a2\n",
    "\n",
    "    coeffs = spatial_efd.CalculateEFD(vpos_x_exp, vpos_y_exp, 20)\n",
    "    # Normalizing the coefficients against rotation and size\n",
    "    coeffs_exp, rotation = spatial_efd.normalize_efd(coeffs, size_invariant=True)\n",
    "    \n",
    "elif target_shape_source == 1:\n",
    "    # Reading the vertices output file from a sample SE simulation output with known parameters\n",
    "    fe_exp = FeatureExtractor('input_data/vertices_target_SE.txt', 'log_edges.xlsx')\n",
    "    # Extracting the efd coefficients\n",
    "    coeffs_exp = fe_exp.tissue_efd_coeff(20)"
   ]
  },
  {
   "cell_type": "markdown",
   "metadata": {},
   "source": [
    "### Preparing output dataset for GPR modelingf by defining frechet distance"
   ]
  },
  {
   "cell_type": "code",
   "execution_count": 9,
   "metadata": {},
   "outputs": [
    {
     "data": {
      "text/plain": [
       "\"\\nxt_exp, yt_exp = spatial_efd.inverse_transform(coeffs_exp, harmonic=20)\\nexp_data = np.zeros((300,2))\\nexp_data[:,0] = xt_exp\\nexp_data[:,1] = yt_exp\\n\\nerror_simulation_experimental_data = np.zeros(150)\\nfor i in range(150):\\n    temp = master_feature_output[i,:]\\n    temp2 = np.reshape(temp, (20,4))\\n    xt, yt = spatial_efd.inverse_transform(temp2, harmonic=20)\\n    sim_data = np.zeros((300,2))\\n    sim_data[:,0] = xt\\n    sim_data[:,1] = yt\\n    error_simulation_experimental_data[i] = similaritymeasures.frechet_dist(exp_data,sim_data)\\n    \\ndata_y = (np.reshape(error_simulation_experimental_data, (150,1)))*(-1)\\nprint(np.shape(data_y))\\nnp.save('data_y.npy', data_y)\\n\""
      ]
     },
     "execution_count": 9,
     "metadata": {},
     "output_type": "execute_result"
    }
   ],
   "source": [
    "# Reverse EFD for plotting the normalized tissue shape\n",
    "\n",
    "data_y = np.load('data_y.npy', )\n",
    "\n",
    "\"\"\"\n",
    "xt_exp, yt_exp = spatial_efd.inverse_transform(coeffs_exp, harmonic=20)\n",
    "exp_data = np.zeros((300,2))\n",
    "exp_data[:,0] = xt_exp\n",
    "exp_data[:,1] = yt_exp\n",
    "\n",
    "error_simulation_experimental_data = np.zeros(150)\n",
    "for i in range(150):\n",
    "    temp = master_feature_output[i,:]\n",
    "    temp2 = np.reshape(temp, (20,4))\n",
    "    xt, yt = spatial_efd.inverse_transform(temp2, harmonic=20)\n",
    "    sim_data = np.zeros((300,2))\n",
    "    sim_data[:,0] = xt\n",
    "    sim_data[:,1] = yt\n",
    "    error_simulation_experimental_data[i] = similaritymeasures.frechet_dist(exp_data,sim_data)\n",
    "    \n",
    "data_y = (np.reshape(error_simulation_experimental_data, (150,1)))*(-1)\n",
    "print(np.shape(data_y))\n",
    "np.save('data_y.npy', data_y)\n",
    "\"\"\""
   ]
  },
  {
   "cell_type": "code",
   "execution_count": 10,
   "metadata": {},
   "outputs": [
    {
     "data": {
      "text/plain": [
       "'\\nsorted_array_index = np.argsort(error_simulation_experimental_data)\\nparam_best_fit = np.zeros((5,35))\\n\\nfor i in range(5):\\n    temp = master_feature_output[sorted_array_index[i],:]\\n    param_best_fit[i,:] = master_parameter_input_n[sorted_array_index[i],:]\\n    temp2 = np.reshape(temp, (20,4))\\n    xt, yt = spatial_efd.inverse_transform(temp2, harmonic=20)\\n    #print(np.shape(xt))\\n    plt.subplot(1,5,i+1)\\n    plt.plot(xt,yt,color=\"black\")\\n    plt.plot(xt_exp,yt_exp,\\'blue\\')\\n    plt.xticks(xt, \" \")\\n    plt.xticks(yt, \" \")\\n    plt.axis(\"off\")\\n    \\n'"
      ]
     },
     "execution_count": 10,
     "metadata": {},
     "output_type": "execute_result"
    }
   ],
   "source": [
    "\"\"\"\n",
    "Visualizing the error in the form of frechet distance\n",
    "\n",
    "\"\"\"\n",
    "\"\"\"\n",
    "sorted_array_index = np.argsort(error_simulation_experimental_data)\n",
    "param_best_fit = np.zeros((5,35))\n",
    "\n",
    "for i in range(5):\n",
    "    temp = master_feature_output[sorted_array_index[i],:]\n",
    "    param_best_fit[i,:] = master_parameter_input_n[sorted_array_index[i],:]\n",
    "    temp2 = np.reshape(temp, (20,4))\n",
    "    xt, yt = spatial_efd.inverse_transform(temp2, harmonic=20)\n",
    "    #print(np.shape(xt))\n",
    "    plt.subplot(1,5,i+1)\n",
    "    plt.plot(xt,yt,color=\"black\")\n",
    "    plt.plot(xt_exp,yt_exp,'blue')\n",
    "    plt.xticks(xt, \" \")\n",
    "    plt.xticks(yt, \" \")\n",
    "    plt.axis(\"off\")\n",
    "    \n",
    "\"\"\""
   ]
  },
  {
   "cell_type": "markdown",
   "metadata": {},
   "source": [
    "### GPR modeling"
   ]
  },
  {
   "cell_type": "code",
   "execution_count": 11,
   "metadata": {},
   "outputs": [
    {
     "name": "stdout",
     "output_type": "stream",
     "text": [
      "(110, 7)\n",
      "(40, 7)\n",
      "(110, 1)\n",
      "(40, 1)\n"
     ]
    }
   ],
   "source": [
    "class ExactGPModel(gpytorch.models.ExactGP):\n",
    "\tdef __init__(self, train_x, train_y, likelihood):\n",
    "\t\tsuper(ExactGPModel, self).__init__(train_x, train_y, likelihood)\n",
    "\t\tself.mean_module = gpytorch.means.ConstantMean()\n",
    "\t\tself.covar_module = gpytorch.kernels.ScaleKernel(gpytorch.kernels.RBFKernel(ard_num_dims = 7))\n",
    "\t\t\n",
    "\tdef forward(self, x):\n",
    "\t\tmean_x = self.mean_module(x)\n",
    "\t\tcovar_x = self.covar_module(x)\n",
    "\t\treturn gpytorch.distributions.MultivariateNormal(mean_x, covar_x)\n",
    "# Calling in the gpr class\n",
    "gpr  = gaussianProcessRegression(data_x, data_y)\n",
    "# Splitting up the training and test data\n",
    "train_x, train_y, test_x, test_y = gpr.split_data(110, 150)\n",
    "print(np.shape(train_x))\n",
    "print(np.shape(test_x))\n",
    "print(np.shape(train_y))\n",
    "print(np.shape(test_y))"
   ]
  },
  {
   "cell_type": "code",
   "execution_count": 12,
   "metadata": {},
   "outputs": [],
   "source": [
    "model, likelihood, lp, mp, up = gpr.GP_Regressor(train_x, train_y, test_x, test_y, 1000, 0, ExactGPModel,0)"
   ]
  },
  {
   "cell_type": "code",
   "execution_count": 13,
   "metadata": {},
   "outputs": [
    {
     "name": "stdout",
     "output_type": "stream",
     "text": [
      "[-0.30913632 -0.5623392  -0.54691483 -0.45122001 -0.39371926 -0.33772979\n",
      " -0.42181897 -0.5723285  -0.30403985 -0.40911843 -0.53820258 -0.34791453\n",
      " -0.56133624 -0.3564476  -0.35650767 -0.36990918 -0.47331342 -0.54858959\n",
      " -0.4498662  -0.4271079  -0.41592466 -0.55431745 -0.54477733 -0.37215972\n",
      " -0.50916315 -0.35543265 -0.33483465 -0.50749213 -0.37120865 -0.52605496\n",
      " -0.40803335 -0.35726087 -0.48556315 -0.68852331 -0.47933016 -0.5070243\n",
      " -0.31131838 -0.38394892 -0.40317749 -0.34422403]\n"
     ]
    }
   ],
   "source": [
    "print(lp)"
   ]
  },
  {
   "cell_type": "markdown",
   "metadata": {},
   "source": [
    "### Calculating expected improvemnt for test dataset"
   ]
  },
  {
   "cell_type": "code",
   "execution_count": 14,
   "metadata": {},
   "outputs": [
    {
     "name": "stdout",
     "output_type": "stream",
     "text": [
      "[3.16300803e-024 3.32161205e-239 2.86893917e-247 4.30772655e-111\n",
      " 2.91850078e-035 0.00000000e+000 0.00000000e+000 0.00000000e+000\n",
      " 2.49121878e-064 0.00000000e+000 0.00000000e+000 0.00000000e+000\n",
      " 0.00000000e+000 0.00000000e+000 4.78120224e-033 0.00000000e+000\n",
      " 2.18442471e-037 4.10255916e-206 8.98920825e-098 0.00000000e+000\n",
      " 2.60431409e-073 0.00000000e+000 0.00000000e+000 7.66859003e-075\n",
      " 0.00000000e+000 3.37852646e-073 2.83668722e-051 1.08402431e-176\n",
      " 7.12748436e-154 0.00000000e+000 4.07265420e-019 1.78648511e-030\n",
      " 4.40670945e-256 0.00000000e+000 1.17893971e-055 1.66548992e-235\n",
      " 6.17213840e-187 7.90786907e-012 5.20648076e-293 0.00000000e+000]\n",
      "[[-0.17649693]\n",
      " [-0.1801902 ]\n",
      " [-0.09961659]\n",
      " [-0.36346232]\n",
      " [-0.11792673]\n",
      " [-0.26379239]\n",
      " [-0.28720787]\n",
      " [-0.54663895]\n",
      " [-0.28366472]\n",
      " [-0.28190165]\n",
      " [-0.41830573]\n",
      " [-0.23930118]\n",
      " [-0.20828618]\n",
      " [-0.28569193]\n",
      " [-0.07241709]\n",
      " [-0.27821004]\n",
      " [-0.10995092]\n",
      " [-0.16421949]\n",
      " [-0.1374757 ]\n",
      " [-0.55142085]\n",
      " [-0.18098541]\n",
      " [-0.22532183]\n",
      " [-0.16918382]\n",
      " [-0.2902038 ]\n",
      " [-0.14554871]\n",
      " [-0.05473398]\n",
      " [-0.06613359]\n",
      " [-0.45373526]\n",
      " [-0.17187943]\n",
      " [-0.43210621]\n",
      " [-0.13447266]\n",
      " [-0.32665086]\n",
      " [-0.38542998]\n",
      " [-0.42893444]\n",
      " [-0.29302497]\n",
      " [-0.27875458]\n",
      " [-0.22646654]\n",
      " [-0.1916983 ]\n",
      " [-0.27256267]\n",
      " [-0.1903908 ]]\n"
     ]
    }
   ],
   "source": [
    "af = acqisitionFunctions(test_x, test_x, test_y)\n",
    "ei = af.expected_improvement(model, likelihood, 0)\n",
    "print(ei)\n",
    "print(test_y)"
   ]
  },
  {
   "cell_type": "code",
   "execution_count": 15,
   "metadata": {},
   "outputs": [
    {
     "name": "stdout",
     "output_type": "stream",
     "text": [
      "7.907869071176002e-12\n"
     ]
    },
    {
     "data": {
      "image/png": "[encoded data removed]",
      "text/plain": [
       "<Figure size 432x288 with 1 Axes>"
      ]
     },
     "metadata": {
      "needs_background": "light"
     },
     "output_type": "display_data"
    }
   ],
   "source": [
    "print(np.max(ei))\n",
    "plt.scatter((test_y), np.power(ei,1/300))\n",
    "plt.xlabel('True functional value for test data')\n",
    "plt.ylabel('EI^{1/100}')\n",
    "plt.show()"
   ]
  },
  {
   "cell_type": "code",
   "execution_count": null,
   "metadata": {},
   "outputs": [],
   "source": []
  }
 ],
 "metadata": {
  "kernelspec": {
   "display_name": "Python 3",
   "language": "python",
   "name": "python3"
  },
  "language_info": {
   "codemirror_mode": {
    "name": "ipython",
    "version": 3
   },
   "file_extension": ".py",
   "mimetype": "text/x-python",
   "name": "python",
   "nbconvert_exporter": "python",
   "pygments_lexer": "ipython3",
   "version": "3.6.5"
  }
 },
 "nbformat": 4,
 "nbformat_minor": 2
}
