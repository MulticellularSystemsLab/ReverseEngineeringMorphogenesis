{
 "cells": [
  {
   "cell_type": "code",
   "execution_count": 1,
   "metadata": {},
   "outputs": [],
   "source": [
    "# Importing libraries\n",
    "import pandas as pd\n",
    "import matplotlib.pyplot as plt\n",
    "import spatial_efd\n",
    "import math \n",
    "import signac\n",
    "import numpy as np\n",
    "import os.path\n",
    "import os\n",
    "import torch\n",
    "import gpytorch\n",
    "import subprocess\n",
    "import gc\n",
    "from matplotlib import pyplot as plt\n",
    "from sklearn.preprocessing import StandardScaler\n",
    "# from smt.sampling_methods import LHS\n",
    "# Importing helper libraries for bayesian optimization\n",
    "from dependencies.data_preprocessing_class import dataPreprocessing\n",
    "from dependencies.gaussian_process_regression_class import gaussianProcessRegression\n",
    "from dependencies.acquisition_functions_class import acqisitionFunctions\n",
    "from dependencies.geometry_writer import geometryWriter\n",
    "from dependencies.feature_extractor_4 import FeatureExtractor"
   ]
  },
  {
   "cell_type": "code",
   "execution_count": 2,
   "metadata": {},
   "outputs": [],
   "source": [
    "\"\"\"\n",
    "STEP 0:\n",
    "Load the input and output data gennerated by SE model for building a GPR model\n",
    "\"\"\"\n",
    "# Checking if data exists\n",
    "doesDataFileExist = os.path.isfile(\"master_feature_output.npy\")\n",
    "# Loading datafiles if they exist\n",
    "# Else fetching and preparing data from signac workspace\n",
    "if doesDataFileExist == True:\n",
    "\tmaster_parameter_input_n = np.load('master_parameter_input_n.npy', )\n",
    "\tmaster_feature_output = np.load('master_feature_output.npy', )"
   ]
  },
  {
   "cell_type": "code",
   "execution_count": 3,
   "metadata": {},
   "outputs": [
    {
     "name": "stderr",
     "output_type": "stream",
     "text": [
      "C:\\Users\\Nilay\\Documents\\GitHub\\Tissue-Cartography\\bayesian_optimization_multi\\dependencies\\data_preprocessing_class.py:42: RuntimeWarning: divide by zero encountered in log\n",
      "  master_parameter_input = np.log(self.master_parameter_input_n)\n"
     ]
    }
   ],
   "source": [
    "\"\"\"\n",
    "STEP 2a: Data preprocessing\n",
    "1. Selects the parameters sampled in LHS from total 35 parameters of the SE model\n",
    "2. PCA on the out shape features.\n",
    "\"\"\"\n",
    "data_efd_mean = np.mean(master_feature_output,axis = 0)\n",
    "data_efd_variance = np.std(master_feature_output,axis = 0)\n",
    "data_efd_variance[0,] = 10**-33\n",
    "# Loading in the data processing class\n",
    "dataPreprocess  = dataPreprocessing(master_parameter_input_n, master_feature_output, 133)\n",
    "# Converting the input parameters to logscale\n",
    "master_parameter_input_log = dataPreprocess.inputLogTransform()\n",
    "# Selecting the parameters that were sampled in the latin hypercube sampling\n",
    "num_parameters_LHS = 7\n",
    "LHS_parameter_index = [1, 4, 7, 17, 18, 19, 33]\n",
    "# Calling in the function to separate out the desired parameters\n",
    "data_x = dataPreprocess.inputParameterSelection(num_parameters_LHS, LHS_parameter_index, master_parameter_input_log)\n",
    "# PCA to reduce dimensionality of the output data\n",
    "total_variance_explained, principalComponents, weights, weights_af = dataPreprocess.pcaEfdFeatures(8)\n",
    "# Storing mean and standard deviation of input training data for later use\n",
    "data_x_mean = np.mean(data_x, axis=0)\n",
    "data_x_variance = np.std(data_x, axis=0)\n",
    "# Normalizing data\n",
    "data_x = StandardScaler().fit_transform(data_x)\n",
    "max_data_x = np.amax(data_x, axis=0) \n",
    "min_data_x = np.amin(data_x, axis=0) \n",
    "# Selecting PC1 as our 1st output to the multidimensional input\n",
    "data_y = principalComponents"
   ]
  },
  {
   "cell_type": "code",
   "execution_count": 4,
   "metadata": {},
   "outputs": [],
   "source": [
    "# Reading the vertices output file from a sample SE simulation output with known parameters\n",
    "fe_exp = FeatureExtractor('input_data/vertices_target_SE.txt', 'log_edges.xlsx')\n",
    "# Extracting the efd coefficients\n",
    "coeff_exp = fe_exp.tissue_efd_coeff(20)\n",
    "# Reverse EFD for plotting the normalized tissue shape\n",
    "xt_exp, yt_exp = spatial_efd.inverse_transform(coeff_exp, harmonic=20)\n",
    "efd_coeff_exp_reshaped = np.reshape(coeff_exp, (80,))\n",
    "\n",
    "efd_coeff_exp_normalized = (np.divide(np.subtract(efd_coeff_exp_reshaped,data_efd_mean), data_efd_variance)) \n",
    "efd_coeff_exp_normalized = np.reshape(efd_coeff_exp_normalized, (80,1))\n",
    "# Multiplying EFD coefficients by already obtained weight of pc\n",
    "efd_coeff_exp_normalized_pc = np.matmul(weights,efd_coeff_exp_normalized)\n",
    "# Reshaping array for appending to the original data array\n",
    "y_exp = np.reshape(efd_coeff_exp_normalized_pc, (1,8))\n",
    "print(y_exp)"
   ]
  },
  {
   "cell_type": "code",
   "execution_count": null,
   "metadata": {},
   "outputs": [],
   "source": [
    "\"\"\"\n",
    "Step 3: class ExactGP Model \n",
    "        Needs to be executed to execute the \n",
    "\t\t  gaussianProcessRegression class \n",
    "\"\"\"\n",
    "class ExactGPModel(gpytorch.models.ExactGP):\n",
    "\tdef __init__(self, train_x, train_y, likelihood):\n",
    "\t\tsuper(ExactGPModel, self).__init__(train_x, train_y, likelihood)\n",
    "\t\tself.mean_module = gpytorch.means.ConstantMean()\n",
    "\t\tself.covar_module = gpytorch.kernels.ScaleKernel(gpytorch.kernels.MaternKernel(nu=0.5))\n",
    "\t\t\n",
    "\tdef forward(self, x):\n",
    "\t\tmean_x = self.mean_module(x)\n",
    "\t\tcovar_x = self.covar_module(x)\n",
    "\t\treturn gpytorch.distributions.MultivariateNormal(mean_x, covar_x)\n",
    "# Calling in the gpr class\n",
    "gpr  = gaussianProcessRegression(data_x, data_y)\n",
    "# Splitting up the training and test data\n",
    "train_x, train_y, test_x, test_y = gpr.split_data(110, 133)"
   ]
  },
  {
   "cell_type": "code",
   "execution_count": null,
   "metadata": {},
   "outputs": [],
   "source": [
    "\"\"\"\n",
    "Step 5: Executing the loop for bayesian optimization\n",
    "\n",
    "\"\"\"\n",
    "\n",
    "\n",
    "maxIter = 1\n",
    "num_pc_components = 8\n",
    "error_target_sampled = []\n",
    "iter_counter = []\n",
    "param_sampled = np.zeros((maxIter,7))\n",
    "\n",
    "for i in range(maxIter):\n",
    "    \"\"\" Step 5a: Training the GP model \n",
    "    \"\"\"\t\n",
    "    \"\"\" Step 5b: Estimating acquisition function\n",
    "    Sample random points in space\n",
    "    Use the gpr model to estimate expected improvement\n",
    "    find optimum x\n",
    "    Transform to parameter space\n",
    "    \"\"\"\n",
    "    # Method I: latine hypercube sampling\n",
    "    xlimits = np.array([[min_data_x[0], max_data_x[0]],[min_data_x[1], max_data_x[1]],[min_data_x[2], max_data_x[2]],[min_data_x[3], max_data_x[3]],[min_data_x[4], max_data_x[4]],[min_data_x[5], max_data_x[5]],[min_data_x[6], max_data_x[6]]])\n",
    "    sampling = LHS(xlimits = xlimits)\n",
    "    # Defining numvber of samples\n",
    "    num_samples = 100000\n",
    "    # Implementing latin hypercube sampling\n",
    "    x = sampling(num_samples)\n",
    "    master_acquisition = x\n",
    "\n",
    "\n",
    "    # Method II: Random sampling\n",
    "    #num_samples = 1000000\n",
    "    #x = np.random.rand(num_samples, 7)\n",
    "    \n",
    "    ei = np.zeros((num_samples,))\n",
    "    \n",
    "    for j in range(num_pc_components):\n",
    "        # Getting the trained model and likelihood using the training data\n",
    "        model, likelihood = gpr.GP_Regressor(train_x, train_y, test_x, test_y, 100, i, ExactGPModel,j)\n",
    "        y_target = efd_coeff_exp_normalized_pc[j]\n",
    "        # Calling in the acquisition function class\n",
    "        af = acqisitionFunctions(x, test_x, test_y[:,j])\n",
    "        ei_comp, model_mean, model_var = af.expected_improvement_modified(model, likelihood, y_target)\n",
    "        \n",
    "        \n",
    "        # Calculating the xpected improvement\n",
    "        ei = ei + weights_af[j]*ei_comp\n",
    "        \n",
    "        master_acquisition = np.hstack((master_acquisition,np.reshape(model_mean,(100000,1))))\n",
    "        master_acquisition = np.hstack((master_acquisition,np.reshape(model_var,(100000,1))))\n",
    "        master_acquisition = np.hstack((master_acquisition,np.reshape(ei_comp,(100000,1))))\n",
    "        \n",
    "        print(np.shape(master_acquisition))\n",
    "        \n",
    "        del model\n",
    "        del likelihood\n",
    "        del af\n",
    "        gc.collect()"
   ]
  },
  {
   "cell_type": "code",
   "execution_count": null,
   "metadata": {},
   "outputs": [],
   "source": [
    "np.save('master_acquisition.npy',master_acquisition)"
   ]
  },
  {
   "cell_type": "code",
   "execution_count": 13,
   "metadata": {},
   "outputs": [
    {
     "name": "stdout",
     "output_type": "stream",
     "text": [
      "(100000, 31)\n"
     ]
    }
   ],
   "source": [
    "\"\"\" STructure of master_acquisition_array: 7 parameters, model_mean_PC1, model_var_PC1, ei_PC1, \n",
    "                                      model_mean_PC2, model_var_PC12, ei_PC2, .....\n",
    "\"\"\"\n",
    "\n",
    "master_acquisition = np.load(\"master_acquisition.npy\",)\n",
    "print(np.shape(master_acquisition))"
   ]
  },
  {
   "cell_type": "code",
   "execution_count": 12,
   "metadata": {},
   "outputs": [
    {
     "name": "stdout",
     "output_type": "stream",
     "text": [
      "(100000,)\n"
     ]
    },
    {
     "data": {
      "image/png": "[encoded data removed]",
      "text/plain": [
       "<Figure size 432x288 with 1 Axes>"
      ]
     },
     "metadata": {},
     "output_type": "display_data"
    }
   ],
   "source": [
    "ei_cumulative = np.zeros((100000,))\n",
    "ei_index = np.arange(100000)\n",
    "for i in range(8):\n",
    "    ei_cumulative = ei_cumulative + weights_af[i]*master_acquisition[:,6+3*(i+1)]\n",
    "    \n",
    "print(np.shape(ei_cumulative))\n",
    "\n",
    "indices_sorted_ei = np.argsort(ei_cumulative)\n",
    "sorted_ei_cumulative = np.sort(ei_cumulative)\n",
    "\n",
    "indices_sorted_ei_d = indices_sorted_ei[::-1]\n",
    "sorted_ei_cumulative_d = sorted_ei_cumulative[::-1]\n",
    "\n",
    "plt.plot(ei_index, sorted_ei_cumulative_d) \n",
    "plt.ylabel(\"cumulative EI\")\n",
    "plt.show()\n",
    "    "
   ]
  },
  {
   "cell_type": "code",
   "execution_count": 25,
   "metadata": {},
   "outputs": [
    {
     "ename": "SyntaxError",
     "evalue": "Missing parentheses in call to 'print'. Did you mean print(df_sampled_param)? (<ipython-input-25-074d5dcd1a45>, line 22)",
     "output_type": "error",
     "traceback": [
      "\u001b[1;36m  File \u001b[1;32m\"<ipython-input-25-074d5dcd1a45>\"\u001b[1;36m, line \u001b[1;32m22\u001b[0m\n\u001b[1;33m    print df_sampled_param\u001b[0m\n\u001b[1;37m                         ^\u001b[0m\n\u001b[1;31mSyntaxError\u001b[0m\u001b[1;31m:\u001b[0m Missing parentheses in call to 'print'. Did you mean print(df_sampled_param)?\n"
     ]
    }
   ],
   "source": [
    "sampled_param = np.zeros((10,11))\n",
    "pc_index = 0\n",
    "sampled_param[:,0] = sorted_ei_cumulative_d[0:10,]\n",
    "sampled_param_labels = [\"ei\", \"X1\", \"X2\", \"X3\", \"X4\", \"X5\", \"X6\", \"X7\", \"PC-mean_\"+str(pc_index), \"PC-std_\"+str(pc_index), \"Error\"]\n",
    "# Populating parameters\n",
    "for i in range(10):\n",
    "    sampled_param[i,1:8] = master_acquisition[indices_sorted_ei_d[i],0:7]\n",
    "\n",
    "# Populating mean and standard deviation\n",
    "for i in range(10):\n",
    "    sampled_param[i,8] = master_acquisition[indices_sorted_ei_d[i],6+3*(pc_index+1)-2]\n",
    "    \n",
    "for i in range(10):\n",
    "    sampled_param[i,9] = master_acquisition[indices_sorted_ei_d[i],6+3*(pc_index+1)-1]\n",
    "\n",
    "# Populating the error from target\n",
    "for i in range(10):\n",
    "    sampled_param[i,10] = (master_acquisition[indices_sorted_ei_d[i],6+3*(pc_index+1)-2] - efd_coeff_exp_normalized_pc[pc_index])**2\n",
    "    \n",
    "df_sampled_param = pd.DataFrame(sampled_param, columns = sampled_param_labels)\n",
    "    \n",
    "print(df_sampled_param)    "
   ]
  },
  {
   "cell_type": "code",
   "execution_count": null,
   "metadata": {},
   "outputs": [],
   "source": []
  },
  {
   "cell_type": "code",
   "execution_count": null,
   "metadata": {},
   "outputs": [],
   "source": []
  }
 ],
 "metadata": {
  "kernelspec": {
   "display_name": "Python 3",
   "language": "python",
   "name": "python3"
  },
  "language_info": {
   "codemirror_mode": {
    "name": "ipython",
    "version": 3
   },
   "file_extension": ".py",
   "mimetype": "text/x-python",
   "name": "python",
   "nbconvert_exporter": "python",
   "pygments_lexer": "ipython3",
   "version": "3.6.5"
  }
 },
 "nbformat": 4,
 "nbformat_minor": 4
}
