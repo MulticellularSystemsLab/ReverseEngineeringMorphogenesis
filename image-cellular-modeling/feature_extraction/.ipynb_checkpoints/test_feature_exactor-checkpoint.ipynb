{
 "cells": [
  {
   "cell_type": "code",
   "execution_count": 1,
   "metadata": {},
   "outputs": [],
   "source": [
    "from feature_extractor_3 import FeatureExtractor"
   ]
  },
  {
   "cell_type": "code",
   "execution_count": 2,
   "metadata": {},
   "outputs": [],
   "source": [
    "fe1 = FeatureExtractor('0_1_0_001.txt', 'log_edges.xlsx')\n",
    "#fe2 = FeatureExtractor('g_2.xlsx', 'log_edges.xlsx')\n",
    "#fe4 = FeatureExtractor('g_4.xlsx', 'log_edges.xlsx')\n",
    "\n"
   ]
  },
  {
   "cell_type": "code",
   "execution_count": null,
   "metadata": {},
   "outputs": [],
   "source": [
    "curvature1 = fe1.tissue_local_curvature()\n",
    "curvature2 = fe2.tissue_local_curvature()\n",
    "curvature4 = fe4.tissue_local_curvature()"
   ]
  },
  {
   "cell_type": "code",
   "execution_count": null,
   "metadata": {},
   "outputs": [],
   "source": [
    "import pandas as pd\n",
    "import numpy as np\n",
    "import matplotlib.pyplot as plt\n",
    "import spatial_efd\n",
    "import math\n",
    "\n",
    "\n",
    "plt.plot(np.linspace(1, 130-1, num=130-1),curvature1,label='l_a / l_b = 1')\n",
    "plt.plot(np.linspace(1, 130-1, num=130-1),curvature2,label='l_a / l_b = 2')\n",
    "plt.plot(np.linspace(1, 130-1, num=130-1),curvature4,label='l_a / l_b = 4')\n",
    "plt.xlabel(\"cell id \")\n",
    "plt.ylabel(\"Local curvature (1 / length)\")\n",
    "plt.legend()\n",
    "plt.show()"
   ]
  },
  {
   "cell_type": "code",
   "execution_count": 3,
   "metadata": {},
   "outputs": [
    {
     "data": {
      "image/png": "[encoded data removed]",
      "text/plain": [
       "<Figure size 432x288 with 1 Axes>"
      ]
     },
     "metadata": {},
     "output_type": "display_data"
    }
   ],
   "source": [
    "edgelength1 = fe1.edge_length()\n",
    "#edgelength2 = fe2.edge_length()\n",
    "#edgelength4 = fe4.edge_length()"
   ]
  },
  {
   "cell_type": "code",
   "execution_count": null,
   "metadata": {},
   "outputs": [],
   "source": [
    "plt.plot(np.linspace(1, 390, num=390),edgelength1,label='l_a / l_b = 1')\n",
    "#plt.plot(np.linspace(1, 390, num=390),edgelength2,label='l_a / l_b = 2')\n",
    "#plt.plot(np.linspace(1, 390, num=390),edgelength4,label='l_a / l_b = 4')\n",
    "\n",
    "plt.xlabel(\"Edge id\")\n",
    "plt.ylabel(\"Edge length [nondimensional]\")\n",
    "plt.legend()\n",
    "plt.show()"
   ]
  },
  {
   "cell_type": "code",
   "execution_count": null,
   "metadata": {},
   "outputs": [],
   "source": [
    "fe1.plot_tissue_shape()\n",
    "#fe2.plot_tissue_shape()\n",
    "#fe4.plot_tissue_shape()"
   ]
  },
  {
   "cell_type": "code",
   "execution_count": null,
   "metadata": {},
   "outputs": [],
   "source": [
    "efd1 = fe1.tissue_efd_coeff(20)\n",
    "efd2 = fe2.tissue_efd_coeff(20)\n",
    "efd4 = fe4.tissue_efd_coeff(20)"
   ]
  },
  {
   "cell_type": "code",
   "execution_count": null,
   "metadata": {},
   "outputs": [],
   "source": [
    "xt1, yt1 = spatial_efd.inverse_transform(efd1, harmonic=20)\n",
    "xt2, yt2 = spatial_efd.inverse_transform(efd2, harmonic=20)\n",
    "xt4, yt4 = spatial_efd.inverse_transform(efd4, harmonic=20)\n",
    "        \n",
    "        # Plotting normalized tissue shape\n",
    "plt.plot(xt1,yt1,label='l_a / l_b = 1')\n",
    "plt.plot(xt2,yt2,label='l_a / l_b = 2')\n",
    "plt.plot(xt4,yt4,label='l_a / l_b = 4')\n",
    "plt.axes().set_aspect('equal', 'datalim')\n",
    "plt.xlabel(\"x [nondimensional]\")\n",
    "plt.ylabel(\"y [nondimensional]\")\n",
    "plt.legend()\n",
    "plt.show()"
   ]
  },
  {
   "cell_type": "code",
   "execution_count": null,
   "metadata": {},
   "outputs": [],
   "source": [
    "fe = FeatureExtractor('geometryfinal.xlsx', 'log_edges.xlsx')"
   ]
  },
  {
   "cell_type": "code",
   "execution_count": null,
   "metadata": {},
   "outputs": [],
   "source": [
    "fe.plot_tissue_shape()"
   ]
  },
  {
   "cell_type": "code",
   "execution_count": null,
   "metadata": {},
   "outputs": [],
   "source": [
    "fe.edge_length()"
   ]
  },
  {
   "cell_type": "code",
   "execution_count": null,
   "metadata": {},
   "outputs": [],
   "source": [
    "fe.tissue_efd_coeff(20)"
   ]
  },
  {
   "cell_type": "code",
   "execution_count": null,
   "metadata": {},
   "outputs": [],
   "source": [
    "fe.tissue_local_curvature()"
   ]
  },
  {
   "cell_type": "code",
   "execution_count": null,
   "metadata": {},
   "outputs": [],
   "source": [
    "fe.tissue_basal_angle_variation()"
   ]
  },
  {
   "cell_type": "code",
   "execution_count": null,
   "metadata": {},
   "outputs": [],
   "source": []
  },
  {
   "cell_type": "code",
   "execution_count": null,
   "metadata": {},
   "outputs": [],
   "source": []
  }
 ],
 "metadata": {
  "kernelspec": {
   "display_name": "Python 3",
   "language": "python",
   "name": "python3"
  },
  "language_info": {
   "codemirror_mode": {
    "name": "ipython",
    "version": 3
   },
   "file_extension": ".py",
   "mimetype": "text/x-python",
   "name": "python",
   "nbconvert_exporter": "python",
   "pygments_lexer": "ipython3",
   "version": "3.6.5"
  }
 },
 "nbformat": 4,
 "nbformat_minor": 4
}
