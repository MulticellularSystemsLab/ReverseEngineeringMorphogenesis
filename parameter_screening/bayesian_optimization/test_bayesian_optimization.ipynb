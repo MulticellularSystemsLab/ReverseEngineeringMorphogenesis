{
 "cells": [
  {
   "cell_type": "code",
   "execution_count": 1,
   "metadata": {},
   "outputs": [],
   "source": [
    "# Importing libraries\n",
    "import pandas as pd\n",
    "import matplotlib.pyplot as plt\n",
    "import spatial_efd\n",
    "import math \n",
    "import signac\n",
    "import numpy as np\n",
    "import os.path\n",
    "import torch\n",
    "import gpytorch\n",
    "from matplotlib import pyplot as plt\n",
    "from sklearn.preprocessing import StandardScaler\n",
    "# Importing helper libraries for bayesian optimization\n",
    "from data_preprocessing_class import dataPreprocessing\n",
    "from gaussian_process_regression_class import gaussianProcessRegression\n",
    "from acquisition_functions_class import acqisitionFunctions"
   ]
  },
  {
   "cell_type": "code",
   "execution_count": 2,
   "metadata": {},
   "outputs": [
    {
     "name": "stdout",
     "output_type": "stream",
     "text": [
      "(133, 35)\n",
      "(133, 80)\n"
     ]
    }
   ],
   "source": [
    "\"\"\"\n",
    "STEP 0:\n",
    "Load the input and output data gennerated by SE model for building a GPR model\n",
    "\n",
    "\"\"\"\n",
    "# Checking if data exists\n",
    "doesDataFileExist = os.path.isfile(\"master_feature_output.npy\")\n",
    "\n",
    "# Loading datafiles if they exist\n",
    "# Else fetching and preparing data from signac workspace\n",
    "if doesDataFileExist == True:\n",
    "    # Loading input parameters\n",
    "    master_parameter_input_n = np.load('master_parameter_input_n.npy', )\n",
    "    # Loading output EFD coefficients\n",
    "    master_feature_output = np.load('master_feature_output.npy', )\n",
    "\n",
    "# Printing shape of the daya\n",
    "print(np.shape(master_parameter_input_n))\n",
    "print(np.shape(master_feature_output))"
   ]
  },
  {
   "cell_type": "code",
   "execution_count": 3,
   "metadata": {},
   "outputs": [
    {
     "name": "stderr",
     "output_type": "stream",
     "text": [
      "C:\\Users\\Nilay\\Documents\\GitHub\\Tissue-Cartography\\parameter_screening\\bayesian_optimization\\data_preprocessing_class.py:42: RuntimeWarning: divide by zero encountered in log\n",
      "  master_parameter_input = np.log(self.master_parameter_input_n)\n"
     ]
    },
    {
     "name": "stdout",
     "output_type": "stream",
     "text": [
      "(133, 35)\n",
      "(133, 7)\n",
      "0.8351040196736451\n"
     ]
    }
   ],
   "source": [
    "\"\"\"\n",
    "STEP 2: Data preprocessing\n",
    "1. Selects the parameters sampled in LHS from total 35 parameters of the SE model\n",
    "2. PCA on the out shape features.\n",
    "\"\"\"\n",
    "# Loading in the data processing class\n",
    "dataPreprocess  = dataPreprocessing(master_parameter_input_n, master_feature_output, 133)\n",
    "# Converting the input parameters to logscale\n",
    "master_parameter_input_log = dataPreprocess.inputLogTransform()\n",
    "print(np.shape(master_parameter_input_log))\n",
    "# Selecting the parameters that were sampled in the latin hypercube sampling\n",
    "num_parameters_LHS = 7\n",
    "LHS_parameter_index = [1, 4, 7, 17, 18, 19, 33]\n",
    "# Calling in the function to separate out the desired parameters\n",
    "data_x = dataPreprocess.inputParameterSelection(num_parameters_LHS, LHS_parameter_index, master_parameter_input_log)\n",
    "print(np.shape(data_x))\n",
    "\n",
    "# PCA to reduce dimensionality of the output data\n",
    "total_variance_explained, principalComponents, weights = dataPreprocess.pcaEfdFeatures(8)\n",
    "print(total_variance_explained)\n"
   ]
  },
  {
   "cell_type": "code",
   "execution_count": 4,
   "metadata": {},
   "outputs": [
    {
     "name": "stdout",
     "output_type": "stream",
     "text": [
      "Iter 1/100 - Loss: 6.599   lengthscale: 0.693   noise: 0.693\n",
      "Iter 2/100 - Loss: 6.170   lengthscale: 0.744   noise: 0.744\n",
      "Iter 3/100 - Loss: 5.798   lengthscale: 0.798   noise: 0.798\n",
      "Iter 4/100 - Loss: 5.477   lengthscale: 0.853   noise: 0.853\n",
      "Iter 5/100 - Loss: 5.200   lengthscale: 0.909   noise: 0.911\n",
      "Iter 6/100 - Loss: 4.960   lengthscale: 0.965   noise: 0.969\n",
      "Iter 7/100 - Loss: 4.752   lengthscale: 1.022   noise: 1.029\n",
      "Iter 8/100 - Loss: 4.571   lengthscale: 1.077   noise: 1.090\n",
      "Iter 9/100 - Loss: 4.413   lengthscale: 1.131   noise: 1.151\n",
      "Iter 10/100 - Loss: 4.274   lengthscale: 1.183   noise: 1.213\n",
      "Iter 11/100 - Loss: 4.151   lengthscale: 1.232   noise: 1.275\n",
      "Iter 12/100 - Loss: 4.042   lengthscale: 1.279   noise: 1.337\n",
      "Iter 13/100 - Loss: 3.946   lengthscale: 1.322   noise: 1.399\n",
      "Iter 14/100 - Loss: 3.859   lengthscale: 1.362   noise: 1.460\n",
      "Iter 15/100 - Loss: 3.782   lengthscale: 1.399   noise: 1.521\n",
      "Iter 16/100 - Loss: 3.712   lengthscale: 1.433   noise: 1.581\n",
      "Iter 17/100 - Loss: 3.649   lengthscale: 1.463   noise: 1.641\n",
      "Iter 18/100 - Loss: 3.592   lengthscale: 1.490   noise: 1.699\n",
      "Iter 19/100 - Loss: 3.540   lengthscale: 1.513   noise: 1.757\n",
      "Iter 20/100 - Loss: 3.493   lengthscale: 1.534   noise: 1.813\n",
      "Iter 21/100 - Loss: 3.450   lengthscale: 1.552   noise: 1.868\n",
      "Iter 22/100 - Loss: 3.411   lengthscale: 1.567   noise: 1.922\n",
      "Iter 23/100 - Loss: 3.374   lengthscale: 1.580   noise: 1.975\n",
      "Iter 24/100 - Loss: 3.341   lengthscale: 1.591   noise: 2.027\n",
      "Iter 25/100 - Loss: 3.311   lengthscale: 1.599   noise: 2.077\n",
      "Iter 26/100 - Loss: 3.282   lengthscale: 1.605   noise: 2.126\n",
      "Iter 27/100 - Loss: 3.256   lengthscale: 1.610   noise: 2.174\n",
      "Iter 28/100 - Loss: 3.232   lengthscale: 1.613   noise: 2.220\n",
      "Iter 29/100 - Loss: 3.209   lengthscale: 1.615   noise: 2.265\n",
      "Iter 30/100 - Loss: 3.189   lengthscale: 1.616   noise: 2.309\n",
      "Iter 31/100 - Loss: 3.169   lengthscale: 1.615   noise: 2.352\n",
      "Iter 32/100 - Loss: 3.151   lengthscale: 1.614   noise: 2.393\n",
      "Iter 33/100 - Loss: 3.134   lengthscale: 1.611   noise: 2.433\n",
      "Iter 34/100 - Loss: 3.119   lengthscale: 1.608   noise: 2.472\n",
      "Iter 35/100 - Loss: 3.104   lengthscale: 1.605   noise: 2.510\n",
      "Iter 36/100 - Loss: 3.090   lengthscale: 1.600   noise: 2.547\n",
      "Iter 37/100 - Loss: 3.077   lengthscale: 1.596   noise: 2.583\n",
      "Iter 38/100 - Loss: 3.065   lengthscale: 1.591   noise: 2.618\n",
      "Iter 39/100 - Loss: 3.054   lengthscale: 1.585   noise: 2.652\n",
      "Iter 40/100 - Loss: 3.043   lengthscale: 1.580   noise: 2.684\n",
      "Iter 41/100 - Loss: 3.033   lengthscale: 1.575   noise: 2.716\n",
      "Iter 42/100 - Loss: 3.023   lengthscale: 1.569   noise: 2.747\n",
      "Iter 43/100 - Loss: 3.014   lengthscale: 1.564   noise: 2.778\n",
      "Iter 44/100 - Loss: 3.006   lengthscale: 1.558   noise: 2.807\n",
      "Iter 45/100 - Loss: 2.998   lengthscale: 1.553   noise: 2.836\n",
      "Iter 46/100 - Loss: 2.990   lengthscale: 1.548   noise: 2.863\n",
      "Iter 47/100 - Loss: 2.983   lengthscale: 1.543   noise: 2.890\n",
      "Iter 48/100 - Loss: 2.976   lengthscale: 1.538   noise: 2.917\n",
      "Iter 49/100 - Loss: 2.969   lengthscale: 1.534   noise: 2.943\n",
      "Iter 50/100 - Loss: 2.963   lengthscale: 1.529   noise: 2.968\n",
      "Iter 51/100 - Loss: 2.957   lengthscale: 1.525   noise: 2.992\n",
      "Iter 52/100 - Loss: 2.951   lengthscale: 1.522   noise: 3.016\n",
      "Iter 53/100 - Loss: 2.946   lengthscale: 1.518   noise: 3.039\n",
      "Iter 54/100 - Loss: 2.940   lengthscale: 1.515   noise: 3.062\n",
      "Iter 55/100 - Loss: 2.935   lengthscale: 1.513   noise: 3.085\n",
      "Iter 56/100 - Loss: 2.930   lengthscale: 1.510   noise: 3.106\n",
      "Iter 57/100 - Loss: 2.926   lengthscale: 1.508   noise: 3.128\n",
      "Iter 58/100 - Loss: 2.921   lengthscale: 1.506   noise: 3.149\n",
      "Iter 59/100 - Loss: 2.917   lengthscale: 1.505   noise: 3.169\n",
      "Iter 60/100 - Loss: 2.913   lengthscale: 1.504   noise: 3.189\n",
      "Iter 61/100 - Loss: 2.909   lengthscale: 1.503   noise: 3.209\n",
      "Iter 62/100 - Loss: 2.905   lengthscale: 1.502   noise: 3.228\n",
      "Iter 63/100 - Loss: 2.901   lengthscale: 1.502   noise: 3.247\n",
      "Iter 64/100 - Loss: 2.897   lengthscale: 1.502   noise: 3.266\n",
      "Iter 65/100 - Loss: 2.894   lengthscale: 1.502   noise: 3.284\n",
      "Iter 66/100 - Loss: 2.890   lengthscale: 1.503   noise: 3.302\n",
      "Iter 67/100 - Loss: 2.887   lengthscale: 1.503   noise: 3.320\n",
      "Iter 68/100 - Loss: 2.884   lengthscale: 1.504   noise: 3.337\n",
      "Iter 69/100 - Loss: 2.880   lengthscale: 1.505   noise: 3.355\n",
      "Iter 70/100 - Loss: 2.877   lengthscale: 1.507   noise: 3.371\n",
      "Iter 71/100 - Loss: 2.874   lengthscale: 1.508   noise: 3.388\n",
      "Iter 72/100 - Loss: 2.871   lengthscale: 1.510   noise: 3.404\n",
      "Iter 73/100 - Loss: 2.869   lengthscale: 1.511   noise: 3.421\n",
      "Iter 74/100 - Loss: 2.866   lengthscale: 1.513   noise: 3.436\n",
      "Iter 75/100 - Loss: 2.863   lengthscale: 1.515   noise: 3.452\n",
      "Iter 76/100 - Loss: 2.861   lengthscale: 1.517   noise: 3.468\n",
      "Iter 77/100 - Loss: 2.858   lengthscale: 1.520   noise: 3.483\n",
      "Iter 78/100 - Loss: 2.855   lengthscale: 1.522   noise: 3.498\n",
      "Iter 79/100 - Loss: 2.853   lengthscale: 1.524   noise: 3.513\n",
      "Iter 80/100 - Loss: 2.851   lengthscale: 1.527   noise: 3.528\n",
      "Iter 81/100 - Loss: 2.848   lengthscale: 1.529   noise: 3.542\n",
      "Iter 82/100 - Loss: 2.846   lengthscale: 1.532   noise: 3.557\n",
      "Iter 83/100 - Loss: 2.844   lengthscale: 1.534   noise: 3.571\n",
      "Iter 84/100 - Loss: 2.842   lengthscale: 1.537   noise: 3.585\n",
      "Iter 85/100 - Loss: 2.839   lengthscale: 1.539   noise: 3.599\n",
      "Iter 86/100 - Loss: 2.837   lengthscale: 1.542   noise: 3.612\n",
      "Iter 87/100 - Loss: 2.835   lengthscale: 1.545   noise: 3.626\n",
      "Iter 88/100 - Loss: 2.833   lengthscale: 1.547   noise: 3.639\n",
      "Iter 89/100 - Loss: 2.831   lengthscale: 1.550   noise: 3.653\n",
      "Iter 90/100 - Loss: 2.829   lengthscale: 1.552   noise: 3.666\n",
      "Iter 91/100 - Loss: 2.827   lengthscale: 1.555   noise: 3.679\n",
      "Iter 92/100 - Loss: 2.826   lengthscale: 1.557   noise: 3.692\n",
      "Iter 93/100 - Loss: 2.824   lengthscale: 1.560   noise: 3.705\n",
      "Iter 94/100 - Loss: 2.822   lengthscale: 1.562   noise: 3.717\n",
      "Iter 95/100 - Loss: 2.820   lengthscale: 1.565   noise: 3.730\n",
      "Iter 96/100 - Loss: 2.819   lengthscale: 1.567   noise: 3.742\n",
      "Iter 97/100 - Loss: 2.817   lengthscale: 1.570   noise: 3.754\n",
      "Iter 98/100 - Loss: 2.815   lengthscale: 1.572   noise: 3.767\n",
      "Iter 99/100 - Loss: 2.814   lengthscale: 1.574   noise: 3.779\n",
      "Iter 100/100 - Loss: 2.812   lengthscale: 1.576   noise: 3.791\n"
     ]
    },
    {
     "data": {
      "image/png": "[encoded data removed]",
      "text/plain": [
       "<Figure size 432x288 with 1 Axes>"
      ]
     },
     "metadata": {},
     "output_type": "display_data"
    }
   ],
   "source": [
    "\"\"\"\n",
    "Step 3: Training the GPR model\n",
    "Input: Parametsr sampled in LHS for the SE model\n",
    "Output: PC1\n",
    "\"\"\"\n",
    "# Normalizing data\n",
    "data_x = StandardScaler().fit_transform(data_x)\n",
    "data_y = principalComponents[:,0]\n",
    "\n",
    "# To do: Incorporate it in the GPR class\n",
    "class ExactGPModel(gpytorch.models.ExactGP):\n",
    "    def __init__(self, train_x, train_y, likelihood):\n",
    "        super(ExactGPModel, self).__init__(train_x, train_y, likelihood)\n",
    "        self.mean_module = gpytorch.means.ConstantMean()\n",
    "        # Defining a RBF kernel\n",
    "        #self.covar_module = gpytorch.kernels.ScaleKernel(gpytorch.kernels.RBFKernel())\n",
    "        #defing a Matern kernel\n",
    "        # mu is the smoothness parameter\n",
    "        self.covar_module = gpytorch.kernels.ScaleKernel(gpytorch.kernels.MaternKernel(nu=0.5))\n",
    "\n",
    "    def forward(self, x):\n",
    "        mean_x = self.mean_module(x)\n",
    "        covar_x = self.covar_module(x)\n",
    "        return gpytorch.distributions.MultivariateNormal(mean_x, covar_x)\n",
    "\n",
    "# Calling in the gpr class\n",
    "gpr  = gaussianProcessRegression(data_x, data_y)\n",
    "# Splitting up the training and test data\n",
    "train_x, train_y, test_x, test_y = gpr.split_data(110, 133)\n",
    "# Getting the trained model and likelihood using the training data\n",
    "model, likelihood = gpr.GP_Regressor(train_x, train_y, test_x, test_y, 100, 1, ExactGPModel)"
   ]
  },
  {
   "cell_type": "code",
   "execution_count": 7,
   "metadata": {},
   "outputs": [
    {
     "name": "stdout",
     "output_type": "stream",
     "text": [
      "(100,)\n",
      "[0.08582928 0.05421832 0.16114207 0.08395824 0.12650609 0.09580144\n",
      " 0.10564311 0.19016072 0.16679908 0.16164351 0.04821438 0.14705107\n",
      " 0.13288199 0.15774933 0.1851403  0.10479162 0.09772895 0.08292286\n",
      " 0.10840834 0.10562157 0.1200628  0.10831008 0.09441238 0.12040841\n",
      " 0.1769013  0.09250586 0.10109433 0.1026885  0.10474749 0.19364774\n",
      " 0.11838184 0.0771927  0.10268387 0.15879264 0.09814043 0.1152411\n",
      " 0.08355551 0.06772003 0.1590852  0.0776651  0.17470013 0.08347325\n",
      " 0.13619513 0.13537448 0.11629419 0.09981836 0.14696448 0.1100847\n",
      " 0.07335209 0.08620046 0.15453651 0.04633654 0.12960026 0.18244245\n",
      " 0.20352047 0.04673598 0.11994851 0.02814299 0.10419951 0.19097426\n",
      " 0.17613704 0.16907234 0.13194725 0.15533615 0.10809397 0.10011859\n",
      " 0.18219677 0.21137306 0.15251986 0.30489176 0.21315188 0.09863263\n",
      " 0.14347983 0.10475068 0.05403289 0.16006329 0.09332135 0.09866782\n",
      " 0.1172341  0.15018067 0.13895967 0.11651884 0.12371559 0.11682626\n",
      " 0.06962565 0.14712009 0.25977244 0.09518298 0.21924557 0.09033364\n",
      " 0.12349535 0.15312109 0.16519863 0.08500045 0.09153013 0.09370119\n",
      " 0.14733233 0.07402706 0.11442343 0.13213903]\n"
     ]
    }
   ],
   "source": [
    "\"\"\" STEP 4: Acquistion function:  Expected improvenet\n",
    "\"\"\"\n",
    "\n",
    "\n",
    "# Defining numvber of samples\n",
    "num_samples = 100\n",
    "\n",
    "# Implementing latin hypercube sampling\n",
    "x = np.random.rand(num_samples, 7)\n",
    "\n",
    "# Calling in the acquisition function class\n",
    "af = acqisitionFunctions(x, test_x, test_y)\n",
    "# Calculating the xpected improvement\n",
    "ei = af.expected_improvement(model, likelihood, 0.9)\n",
    "\n",
    "print(np.shape(ei))\n",
    "print(ei)\n",
    "\n"
   ]
  }
 ],
 "metadata": {
  "kernelspec": {
   "display_name": "Python 3",
   "language": "python",
   "name": "python3"
  },
  "language_info": {
   "codemirror_mode": {
    "name": "ipython",
    "version": 3
   },
   "file_extension": ".py",
   "mimetype": "text/x-python",
   "name": "python",
   "nbconvert_exporter": "python",
   "pygments_lexer": "ipython3",
   "version": "3.6.5"
  }
 },
 "nbformat": 4,
 "nbformat_minor": 2
}
