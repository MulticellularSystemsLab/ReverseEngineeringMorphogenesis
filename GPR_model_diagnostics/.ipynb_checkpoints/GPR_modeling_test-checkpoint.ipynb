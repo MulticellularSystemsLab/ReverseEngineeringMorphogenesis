{
 "cells": [
  {
   "cell_type": "code",
   "execution_count": 1,
   "metadata": {},
   "outputs": [],
   "source": [
    "# Importing libraries\n",
    "import pandas as pd\n",
    "import matplotlib.pyplot as plt\n",
    "import spatial_efd\n",
    "import math \n",
    "import signac\n",
    "import numpy as np\n",
    "import os.path\n",
    "from IPython.display import Markdown, display\n",
    "def printmd(string):\n",
    "    display(Markdown(string))"
   ]
  },
  {
   "cell_type": "code",
   "execution_count": 2,
   "metadata": {},
   "outputs": [],
   "source": [
    "# Defining number of input parameters and number of outputs in the feature \n",
    "num_samples = 150\n",
    "num_harmonics = 20\n",
    "num_input_parameter = 35"
   ]
  },
  {
   "cell_type": "markdown",
   "metadata": {},
   "source": [
    "#### Loading screening data data"
   ]
  },
  {
   "cell_type": "code",
   "execution_count": 3,
   "metadata": {},
   "outputs": [
    {
     "name": "stdout",
     "output_type": "stream",
     "text": [
      "(150, 35)\n",
      "(150, 80)\n"
     ]
    }
   ],
   "source": [
    "\"\"\" This section of the code does the following tasks\n",
    "1. Creating input and output training data for building surrogate models\n",
    "2. The input data is stored in master_parameter_input array with shape [num_samples,num_parameters]\n",
    "3. The output data is stored in master_parameter_output array with shape [num samples, 4 x num_harmonics]\n",
    "\"\"\"\n",
    "# Fetching project from signac workspace\n",
    "\n",
    "# Checking if data exists\n",
    "doesDataFileExist = os.path.isfile(\"master_feature_output.npy\")\n",
    "\n",
    "# Loading datafiles if they exist\n",
    "# Else fetching and preparing data from signac workspace\n",
    "if doesDataFileExist == True:\n",
    "    # Loading input parameters\n",
    "    master_parameter_input_n = np.load('master_parameter_input_n.npy', )\n",
    "    # Loading output EFD coefficients\n",
    "    master_feature_output = np.load('master_feature_output.npy', )\n",
    "else:\n",
    "    print(\"No data file exists!\")\n",
    "\n",
    "\n",
    "print(np.shape(master_parameter_input_n))\n",
    "print(np.shape(master_feature_output))\n"
   ]
  },
  {
   "cell_type": "markdown",
   "metadata": {},
   "source": [
    "##### Output data preprocessing - Feature reduction using PCA"
   ]
  },
  {
   "cell_type": "code",
   "execution_count": 4,
   "metadata": {},
   "outputs": [
    {
     "name": "stdout",
     "output_type": "stream",
     "text": [
      "[0.21895301 0.17323367 0.11290526 0.09812456 0.08294328 0.05576723\n",
      " 0.04099771 0.03003538]\n"
     ]
    }
   ],
   "source": [
    "\"\"\" A) his section of code proejects the feature space into lower dimensions using PCA\n",
    "b) Scikit learn was first used to normalize the data and then take principal components\n",
    "c) Varaince captured in the principal components is also estimated\n",
    "d) Further the section plots the correlations between KECM and different principal components\n",
    "\"\"\"\n",
    "# Importing libraries\n",
    "from sklearn.preprocessing import StandardScaler\n",
    "from sklearn.decomposition import PCA\n",
    "\n",
    "# Storing the feature output data in x (Not save as x as x is for inputs)\n",
    "x = master_feature_output\n",
    "# Normalizing the data\n",
    "x = StandardScaler().fit_transform(x)\n",
    "# Defining number of components in PCA\n",
    "pca = PCA(n_components=8)\n",
    "# Using scikit learn to calculate PCs\n",
    "principalComponents = pca.fit_transform(x)\n",
    "# Calculating weights\n",
    "weights = pca.components_\n",
    "# Variance explained in the principal components\n",
    "print(pca.explained_variance_ratio_)\n"
   ]
  },
  {
   "cell_type": "markdown",
   "metadata": {},
   "source": [
    "#### Input data preprocesseing : Parameter selection and data normaization"
   ]
  },
  {
   "cell_type": "code",
   "execution_count": 5,
   "metadata": {},
   "outputs": [
    {
     "name": "stderr",
     "output_type": "stream",
     "text": [
      "C:\\Users\\Nilay\\Anaconda3\\lib\\site-packages\\ipykernel_launcher.py:17: RuntimeWarning: divide by zero encountered in log\n"
     ]
    }
   ],
   "source": [
    "\"\"\" TRSAINING AND TESTING DATA FOR GPR MODEL\n",
    "    a) This section of the code prepares the training data for the GPR model.\n",
    "    b) Parameter that were varied during the LHS rae chosen as the input variables to the model.\n",
    "    c) Output training data are the PCs of the PCs of the EFD features\n",
    "    d) A split is carried out in the inut and output data to create a training and testing dataset for model\n",
    "    e) Definition of parameters varied in LHS\n",
    "       i) param_2 - T_squamous_basal \n",
    "       ii) param_5 - T_cuboidal_basal\n",
    "       iii) param_8 - T_columnar_basal\n",
    "       iv) param_18 - k_columnar_basal\n",
    "       v) param_19 - k_columnar_apical\n",
    "       vi) param_20 - k_columnar_lateral\n",
    "       vii) param_34 - k_ecm\n",
    "\"\"\"\n",
    "\n",
    "# Transforming input parameter data to log scale\n",
    "master_parameter_input = np.log(master_parameter_input_n)\n",
    "# Number of parameters in the Latin Hypercube sampling\n",
    "num_parameters_LHS = 7\n",
    "param_index = [1, 4, 7, 17, 18, 19, 33]\n",
    "split_size = 110\n",
    "# Initializing the training data\n",
    "train_x_numpy = np.zeros((num_samples, num_parameters_LHS))\n",
    "# Getting the parameter values from master_parameter_input\n",
    "for i in range(num_parameters_LHS):\n",
    "    train_x_numpy[:,i] = master_parameter_input[:,param_index[i]]\n",
    "\n",
    "# Normalizing the data around mean\n",
    "train_x_numpy = StandardScaler().fit_transform(train_x_numpy)"
   ]
  },
  {
   "cell_type": "markdown",
   "metadata": {},
   "source": [
    "#### GP modeling"
   ]
  },
  {
   "cell_type": "code",
   "execution_count": 6,
   "metadata": {},
   "outputs": [
    {
     "name": "stdout",
     "output_type": "stream",
     "text": [
      "Using Adam Optimizer\n",
      "Iter 1/100 - Loss: 6.364\n",
      "Iter 2/100 - Loss: 6.034\n",
      "Iter 3/100 - Loss: 5.739\n",
      "Iter 4/100 - Loss: 5.474\n",
      "Iter 5/100 - Loss: 5.236\n",
      "Iter 6/100 - Loss: 5.022\n",
      "Iter 7/100 - Loss: 4.831\n",
      "Iter 8/100 - Loss: 4.660\n",
      "Iter 9/100 - Loss: 4.507\n",
      "Iter 10/100 - Loss: 4.369\n",
      "Iter 11/100 - Loss: 4.246\n",
      "Iter 12/100 - Loss: 4.135\n",
      "Iter 13/100 - Loss: 4.035\n",
      "Iter 14/100 - Loss: 3.946\n",
      "Iter 15/100 - Loss: 3.866\n",
      "Iter 16/100 - Loss: 3.793\n",
      "Iter 17/100 - Loss: 3.727\n",
      "Iter 18/100 - Loss: 3.668\n",
      "Iter 19/100 - Loss: 3.614\n",
      "Iter 20/100 - Loss: 3.565\n",
      "Iter 21/100 - Loss: 3.520\n",
      "Iter 22/100 - Loss: 3.480\n",
      "Iter 23/100 - Loss: 3.443\n",
      "Iter 24/100 - Loss: 3.409\n",
      "Iter 25/100 - Loss: 3.377\n",
      "Iter 26/100 - Loss: 3.349\n",
      "Iter 27/100 - Loss: 3.322\n",
      "Iter 28/100 - Loss: 3.298\n",
      "Iter 29/100 - Loss: 3.275\n",
      "Iter 30/100 - Loss: 3.254\n",
      "Iter 31/100 - Loss: 3.235\n",
      "Iter 32/100 - Loss: 3.217\n",
      "Iter 33/100 - Loss: 3.200\n",
      "Iter 34/100 - Loss: 3.185\n",
      "Iter 35/100 - Loss: 3.170\n",
      "Iter 36/100 - Loss: 3.156\n",
      "Iter 37/100 - Loss: 3.143\n",
      "Iter 38/100 - Loss: 3.131\n",
      "Iter 39/100 - Loss: 3.120\n",
      "Iter 40/100 - Loss: 3.109\n",
      "Iter 41/100 - Loss: 3.099\n",
      "Iter 42/100 - Loss: 3.090\n",
      "Iter 43/100 - Loss: 3.081\n",
      "Iter 44/100 - Loss: 3.072\n",
      "Iter 45/100 - Loss: 3.064\n",
      "Iter 46/100 - Loss: 3.057\n",
      "Iter 47/100 - Loss: 3.049\n",
      "Iter 48/100 - Loss: 3.042\n",
      "Iter 49/100 - Loss: 3.036\n",
      "Iter 50/100 - Loss: 3.029\n",
      "Iter 51/100 - Loss: 3.023\n",
      "Iter 52/100 - Loss: 3.017\n",
      "Iter 53/100 - Loss: 3.012\n",
      "Iter 54/100 - Loss: 3.007\n",
      "Iter 55/100 - Loss: 3.001\n",
      "Iter 56/100 - Loss: 2.996\n",
      "Iter 57/100 - Loss: 2.992\n",
      "Iter 58/100 - Loss: 2.987\n",
      "Iter 59/100 - Loss: 2.983\n",
      "Iter 60/100 - Loss: 2.979\n",
      "Iter 61/100 - Loss: 2.974\n",
      "Iter 62/100 - Loss: 2.970\n",
      "Iter 63/100 - Loss: 2.967\n",
      "Iter 64/100 - Loss: 2.963\n",
      "Iter 65/100 - Loss: 2.959\n",
      "Iter 66/100 - Loss: 2.956\n",
      "Iter 67/100 - Loss: 2.952\n",
      "Iter 68/100 - Loss: 2.949\n",
      "Iter 69/100 - Loss: 2.946\n",
      "Iter 70/100 - Loss: 2.943\n",
      "Iter 71/100 - Loss: 2.940\n",
      "Iter 72/100 - Loss: 2.937\n",
      "Iter 73/100 - Loss: 2.934\n",
      "Iter 74/100 - Loss: 2.931\n",
      "Iter 75/100 - Loss: 2.929\n",
      "Iter 76/100 - Loss: 2.926\n",
      "Iter 77/100 - Loss: 2.923\n",
      "Iter 78/100 - Loss: 2.921\n",
      "Iter 79/100 - Loss: 2.918\n",
      "Iter 80/100 - Loss: 2.916\n",
      "Iter 81/100 - Loss: 2.914\n",
      "Iter 82/100 - Loss: 2.911\n",
      "Iter 83/100 - Loss: 2.909\n",
      "Iter 84/100 - Loss: 2.907\n",
      "Iter 85/100 - Loss: 2.905\n",
      "Iter 86/100 - Loss: 2.903\n",
      "Iter 87/100 - Loss: 2.901\n",
      "Iter 88/100 - Loss: 2.899\n",
      "Iter 89/100 - Loss: 2.897\n",
      "Iter 90/100 - Loss: 2.895\n",
      "Iter 91/100 - Loss: 2.893\n",
      "Iter 92/100 - Loss: 2.891\n",
      "Iter 93/100 - Loss: 2.889\n",
      "Iter 94/100 - Loss: 2.888\n",
      "Iter 95/100 - Loss: 2.886\n",
      "Iter 96/100 - Loss: 2.884\n",
      "Iter 97/100 - Loss: 2.883\n",
      "Iter 98/100 - Loss: 2.881\n",
      "Iter 99/100 - Loss: 2.879\n",
      "Iter 100/100 - Loss: 2.878\n"
     ]
    },
    {
     "data": {
      "image/png": "[encoded data removed]",
      "text/plain": [
       "<Figure size 432x288 with 1 Axes>"
      ]
     },
     "metadata": {},
     "output_type": "display_data"
    }
   ],
   "source": [
    "from gaussian_process_regression_class import gaussianProcessRegression\n",
    "import math\n",
    "import torch\n",
    "import gpytorch\n",
    "from matplotlib import pyplot as plt\n",
    "\n",
    "# We will use the simplest form of GP model, exact inference\n",
    "class ExactGPModel(gpytorch.models.ExactGP):\n",
    "    def __init__(self, train_x, train_y, likelihood):\n",
    "        super(ExactGPModel, self).__init__(train_x, train_y, likelihood)\n",
    "        self.mean_module = gpytorch.means.ConstantMean()\n",
    "        \"\"\" Defining a RBF kernel \"\"\"\n",
    "        #self.covar_module = gpytorch.kernels.ScaleKernel(gpytorch.kernels.RBFKernel(ard_num_dims=7))\n",
    "        self.covar_module = gpytorch.kernels.ScaleKernel(gpytorch.kernels.RBFKernel())\n",
    "        \"\"\" Defining a Matern kernel \"\"\"\n",
    "        # mu is the smoothness parameter\n",
    "        #self.covar_module = gpytorch.kernels.ScaleKernel(gpytorch.kernels.MaternKernel(nu=0.5))\n",
    "        \"\"\" Defining a cosine Kernel \"\"\"\n",
    "        #self.covar_module = gpytorch.kernels.ScaleKernel(gpytorch.kernels.CosineKernel())\n",
    "        \"\"\" Defining a linear kernel \"\"\"\n",
    "        #self.covar_module = gpytorch.kernels.ScaleKernel(gpytorch.kernels.LinearKernel())\n",
    "        \"\"\" Defining a periodic Kernel \"\"\"\n",
    "        #self.covar_module = gpytorch.kernels.ScaleKernel(gpytorch.kernels.PeriodicKernel())\n",
    "        \"\"\" Defining piecewise polunomial Kernel\"\"\"\n",
    "        #self.covar_module = gpytorch.kernels.ScaleKernel(gpytorch.kernels.PiecewisePolynomialKernel())\n",
    "        \"\"\" Defining a RQ Kernel \"\"\"\n",
    "        #self.covar_module = gpytorch.kernels.ScaleKernel(gpytorch.kernels.RQKernel())\n",
    "        \n",
    "\n",
    "    def forward(self, x):\n",
    "        mean_x = self.mean_module(x)\n",
    "        covar_x = self.covar_module(x)\n",
    "        return gpytorch.distributions.MultivariateNormal(mean_x, covar_x)\n",
    "\n",
    "split_size = 110\n",
    "\"\"\" Training data \"\"\"\n",
    "train_x = (train_x_numpy[:split_size,:])\n",
    "train_y_all_pc = (principalComponents[:split_size,:])\n",
    "\"\"\" Testing data \"\"\"\n",
    "test_x = (train_x_numpy[split_size:num_samples,:])\n",
    "test_y_all_pc = principalComponents[split_size:num_samples,:]\n",
    "\n",
    "pc_index = 1\n",
    "mod_hyp_init = 0\n",
    "opt_sel = 1\n",
    "\n",
    "gpr  = gaussianProcessRegression(train_x, train_y_all_pc, test_x, test_y_all_pc)\n",
    "# GP_model_definition(self, ExactGPModel, pc_index, model_initialize_check):\n",
    "model, likelihood, train_x_t, train_y_t, test_x_t, test_y = gpr.GP_model_definition(ExactGPModel, pc_index, mod_hyp_init)\n",
    "# GP_training(self, train_x_t, train_y_t, model, likelihood, optimizer_select, training_iter):\n",
    "model, likelihood, lengthscale_hyperparameters = gpr.GP_training(train_x_t, train_y_t, model, likelihood, opt_sel, 1000)\n",
    "# GP_plotting(self, test_x_t, test_y, model, likelihood, fileNameID, pc_index):\n",
    "gpr.GP_plotting(test_x_t, test_y, model, likelihood, 1, pc_index)"
   ]
  },
  {
   "cell_type": "code",
   "execution_count": null,
   "metadata": {},
   "outputs": [],
   "source": []
  }
 ],
 "metadata": {
  "kernelspec": {
   "display_name": "Python 3",
   "language": "python",
   "name": "python3"
  },
  "language_info": {
   "codemirror_mode": {
    "name": "ipython",
    "version": 3
   },
   "file_extension": ".py",
   "mimetype": "text/x-python",
   "name": "python",
   "nbconvert_exporter": "python",
   "pygments_lexer": "ipython3",
   "version": "3.6.5"
  }
 },
 "nbformat": 4,
 "nbformat_minor": 2
}
